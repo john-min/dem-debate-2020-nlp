{
 "cells": [
  {
   "cell_type": "markdown",
   "metadata": {},
   "source": [
    "# 1. Web Scrape"
   ]
  },
  {
   "cell_type": "code",
   "execution_count": 2,
   "metadata": {},
   "outputs": [],
   "source": [
    "#import requests\n",
    "from urllib.request import urlopen\n",
    "from bs4 import BeautifulSoup\n",
    "import re\n",
    "import pandas as pd\n",
    "import numpy as np"
   ]
  },
  {
   "cell_type": "markdown",
   "metadata": {},
   "source": [
    "### Scrape Debates 4-6"
   ]
  },
  {
   "cell_type": "markdown",
   "metadata": {},
   "source": [
    "## First Debate"
   ]
  },
  {
   "cell_type": "code",
   "execution_count": 2,
   "metadata": {},
   "outputs": [],
   "source": [
    "url1_1 = 'https://dataviz.nbcnews.com/projects/20190625-nbc-debate-transcript-annotations/wednesday.html?initialWidth=1160&childId=embed-20190625-nbc-debate-transcript-annotations-wednesday&parentTitle=Full%20transcript%3A%202019%20Democratic%20debate%20Night%20One%2C%20sortable%20by%20topic&parentUrl=https%3A%2F%2Fwww.nbcnews.com%2Fpolitics%2F2020-election%2Ffull-transcript-first-democratic-primary-debate-2019-n1022816#quote-8-0'\n",
    "bs_obj = BeautifulSoup(urlopen(url1_1).read())\n",
    "bs_obj.prettify()"
   ]
  },
  {
   "cell_type": "code",
   "execution_count": 5,
   "metadata": {},
   "outputs": [],
   "source": [
    "p = bs_obj.findAll('p')"
   ]
  },
  {
   "cell_type": "markdown",
   "metadata": {},
   "source": [
    "## Second Debate"
   ]
  },
  {
   "cell_type": "code",
   "execution_count": null,
   "metadata": {},
   "outputs": [],
   "source": []
  },
  {
   "cell_type": "markdown",
   "metadata": {},
   "source": [
    "## Third Debate"
   ]
  },
  {
   "cell_type": "code",
   "execution_count": 54,
   "metadata": {},
   "outputs": [],
   "source": [
    "def scrape_third_debate(url):\n",
    "    \n",
    "    def process_third_debate_paragraph(p):\n",
    "    \n",
    "        speaker = re.match('(.*): ', p).groups()[0]\n",
    "        time = re.findall(': (\\d{2}:\\d{2}:\\d{2})', p)[0] \n",
    "        body = p.split(time)[-1].strip()\n",
    "    \n",
    "        return {\n",
    "            'speaker': speaker,\n",
    "            'time': time,\n",
    "            'body': body\n",
    "        }\n",
    "    \n",
    "    try:\n",
    "        r = urlopen(url)\n",
    "        html = r.read()\n",
    "        bs_obj = BeautifulSoup(html)\n",
    "        for a in bs_obj.findAll('a'):\n",
    "            del a['href']\n",
    "        paragraphs = [p.text for p in bs_obj.findAll('p')[4:-2]]\n",
    "        data = pd.DataFrame([process_third_debate_paragraph(p) for p in paragraphs])\n",
    "        return data\n",
    "    except:\n",
    "        print ('Scrape failed')"
   ]
  },
  {
   "cell_type": "code",
   "execution_count": 60,
   "metadata": {},
   "outputs": [
    {
     "name": "stdout",
     "output_type": "stream",
     "text": [
      "Scrape failed\n"
     ]
    }
   ],
   "source": [
    "url3 = 'https://www.rev.com/blog/democratic-debate-transcript-houston-september-12-2019'\n",
    "df3 = scrape_third_debate(url3)"
   ]
  },
  {
   "cell_type": "markdown",
   "metadata": {},
   "source": [
    "## Fourth, Fifth, and Sixth Debates"
   ]
  },
  {
   "cell_type": "code",
   "execution_count": 3,
   "metadata": {},
   "outputs": [],
   "source": [
    "def process_rev_paragraph(p):    \n",
    "    return {\n",
    "        #'speaker': re.match('(.*): ', p).groups()[0],\n",
    "        'speaker': re.match('(.*): \\(', p).groups()[0],\n",
    "        'time': re.findall('\\((.*)\\)', p)[0],\n",
    "        'body': p.split(')')[1].strip()        \n",
    "    }\n",
    "\n",
    "def scrape_rev(url, start=3, end=-2):\n",
    "    try:\n",
    "        r = urlopen(url)\n",
    "        html = r.read()\n",
    "        bs_obj = BeautifulSoup(html)\n",
    "        for a in bs_obj.findAll('a'):\n",
    "            del a['href']\n",
    "        paragraphs = [p.text for p in bs_obj.findAll('p')[start:end]]\n",
    "        data = pd.DataFrame([process_rev_paragraph(p) for p in paragraphs])\n",
    "        return data\n",
    "    except:\n",
    "        print ('Scrape failed')"
   ]
  },
  {
   "cell_type": "markdown",
   "metadata": {},
   "source": [
    "## Fourth Debate"
   ]
  },
  {
   "cell_type": "code",
   "execution_count": 17,
   "metadata": {},
   "outputs": [],
   "source": [
    "url4 = 'https://www.rev.com/blog/october-democratic-debate-transcript-4th-debate-from-ohio'\n",
    "df4 = scrape_rev(url4)\n",
    "df4.to_csv('transcripts/debate4.csv', index=False)"
   ]
  },
  {
   "cell_type": "markdown",
   "metadata": {},
   "source": [
    "## Fifth Debate"
   ]
  },
  {
   "cell_type": "code",
   "execution_count": 13,
   "metadata": {},
   "outputs": [],
   "source": [
    "url5 = 'https://www.rev.com/blog/november-democratic-debate-transcript-atlanta-debate-transcript'\n",
    "df5 = scrape_rev(url5)\n",
    "df5.to_csv('transcripts/debate5.csv', index=False)"
   ]
  },
  {
   "cell_type": "markdown",
   "metadata": {},
   "source": [
    "## Sixth Debate"
   ]
  },
  {
   "cell_type": "code",
   "execution_count": 174,
   "metadata": {},
   "outputs": [],
   "source": [
    "url6 = 'https://www.rev.com/blog/december-democratic-debate-transcript-sixth-debate-from-los-angeles'\n",
    "df6 = scrape_rev(url6)\n",
    "df6.to_csv('transcripts/debate6.csv', index=False)"
   ]
  },
  {
   "cell_type": "code",
   "execution_count": 175,
   "metadata": {},
   "outputs": [],
   "source": [
    "df6 = pd.read_csv('transcripts/debate6.csv')"
   ]
  },
  {
   "cell_type": "code",
   "execution_count": 176,
   "metadata": {},
   "outputs": [
    {
     "data": {
      "text/html": [
       "<div>\n",
       "<style scoped>\n",
       "    .dataframe tbody tr th:only-of-type {\n",
       "        vertical-align: middle;\n",
       "    }\n",
       "\n",
       "    .dataframe tbody tr th {\n",
       "        vertical-align: top;\n",
       "    }\n",
       "\n",
       "    .dataframe thead th {\n",
       "        text-align: right;\n",
       "    }\n",
       "</style>\n",
       "<table border=\"1\" class=\"dataframe\">\n",
       "  <thead>\n",
       "    <tr style=\"text-align: right;\">\n",
       "      <th></th>\n",
       "      <th>body</th>\n",
       "      <th>speaker</th>\n",
       "      <th>time</th>\n",
       "    </tr>\n",
       "  </thead>\n",
       "  <tbody>\n",
       "    <tr>\n",
       "      <th>0</th>\n",
       "      <td>Welcome back. A quick reminder of the rules fo...</td>\n",
       "      <td>Judy Woodruff</td>\n",
       "      <td>00:01</td>\n",
       "    </tr>\n",
       "    <tr>\n",
       "      <th>1</th>\n",
       "      <td>To the candidates. Last night at this hour, th...</td>\n",
       "      <td>Judy Woodruff</td>\n",
       "      <td>00:23</td>\n",
       "    </tr>\n",
       "    <tr>\n",
       "      <th>2</th>\n",
       "      <td>You know, Judy, it was a constitutional necess...</td>\n",
       "      <td>Joe Biden</td>\n",
       "      <td>01:05</td>\n",
       "    </tr>\n",
       "    <tr>\n",
       "      <th>3</th>\n",
       "      <td>Senator Sanders, why do you think more people ...</td>\n",
       "      <td>Judy Woodruff</td>\n",
       "      <td>01:59</td>\n",
       "    </tr>\n",
       "    <tr>\n",
       "      <th>4</th>\n",
       "      <td>Well, Judy, what I would say is that we have a...</td>\n",
       "      <td>Bernie Sanders</td>\n",
       "      <td>02:05</td>\n",
       "    </tr>\n",
       "  </tbody>\n",
       "</table>\n",
       "</div>"
      ],
      "text/plain": [
       "                                                body         speaker   time\n",
       "0  Welcome back. A quick reminder of the rules fo...   Judy Woodruff  00:01\n",
       "1  To the candidates. Last night at this hour, th...   Judy Woodruff  00:23\n",
       "2  You know, Judy, it was a constitutional necess...       Joe Biden  01:05\n",
       "3  Senator Sanders, why do you think more people ...   Judy Woodruff  01:59\n",
       "4  Well, Judy, what I would say is that we have a...  Bernie Sanders  02:05"
      ]
     },
     "execution_count": 176,
     "metadata": {},
     "output_type": "execute_result"
    }
   ],
   "source": [
    "df6.head()"
   ]
  },
  {
   "cell_type": "code",
   "execution_count": 2,
   "metadata": {},
   "outputs": [],
   "source": [
    "url1 = 'https://www.washingtonpost.com/politics/2019/06/27/transcript-night-one-first-democratic-debate-annotated/'"
   ]
  },
  {
   "cell_type": "code",
   "execution_count": 13,
   "metadata": {},
   "outputs": [],
   "source": [
    "url2 = 'https://www.nbcnews.com/politics/2020-election/full-transcript-first-democratic-primary-debate-2019-n1022816'"
   ]
  },
  {
   "cell_type": "code",
   "execution_count": 17,
   "metadata": {},
   "outputs": [],
   "source": [
    "url3 = 'https://dataviz.nbcnews.com/projects/20190625-nbc-debate-transcript-annotations/wednesday.html?initialWidth=1160&childId=embed-20190625-nbc-debate-transcript-annotations-wednesday&parentTitle=Full%20transcript%3A%202019%20Democratic%20debate%20Night%20One%2C%20sortable%20by%20topic&parentUrl=https%3A%2F%2Fwww.nbcnews.com%2Fpolitics%2F2020-election%2Ffull-transcript-first-democratic-primary-debate-2019-n1022816#quote-8-0'"
   ]
  }
 ],
 "metadata": {
  "kernelspec": {
   "display_name": "Python 3",
   "language": "python",
   "name": "python3"
  },
  "language_info": {
   "codemirror_mode": {
    "name": "ipython",
    "version": 3
   },
   "file_extension": ".py",
   "mimetype": "text/x-python",
   "name": "python",
   "nbconvert_exporter": "python",
   "pygments_lexer": "ipython3",
   "version": "3.7.3"
  }
 },
 "nbformat": 4,
 "nbformat_minor": 2
}
