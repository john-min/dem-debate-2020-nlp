{
 "cells": [
  {
   "cell_type": "markdown",
   "metadata": {},
   "source": [
    "# 1. Web Scrape"
   ]
  },
  {
   "cell_type": "code",
   "execution_count": 1,
   "metadata": {},
   "outputs": [
    {
     "name": "stderr",
     "output_type": "stream",
     "text": [
      "Matplotlib is building the font cache using fc-list. This may take a moment.\n"
     ]
    }
   ],
   "source": [
    "#import requests\n",
    "from urllib.request import urlopen\n",
    "from bs4 import BeautifulSoup\n",
    "import re\n",
    "import pandas as pd\n",
    "import numpy as np\n",
    "import string"
   ]
  },
  {
   "cell_type": "code",
   "execution_count": 73,
   "metadata": {},
   "outputs": [],
   "source": [
    "from abc import ABC, abstractmethod\n",
    "\n",
    "class ScrapeDebate(ABC):\n",
    "    \n",
    "    def __init__(self):\n",
    "        pass\n",
    "    \n",
    "    @abstractmethod\n",
    "    def process_paragraph(self, p):\n",
    "        pass\n",
    "    \n",
    "    @abstractmethod\n",
    "    def scrape_data(self, url, start, end):\n",
    "        pass"
   ]
  },
  {
   "cell_type": "code",
   "execution_count": 74,
   "metadata": {},
   "outputs": [],
   "source": [
    "class ScrapeScribie(ScrapeDebate):\n",
    "    def process_paragraph(self, p):\n",
    "        try:\n",
    "            x,y = list(p.children)\n",
    "            time = re.findall('^(\\d:\\d{2}:\\d{2})', x.b.text)[0]\n",
    "            speaker = re.findall('^\\d:\\d{2}:\\d{2} (.*):', x.b.text)[0]\n",
    "            body = y.strip()\n",
    "\n",
    "        except:\n",
    "            speaker = None\n",
    "            time = None\n",
    "            body = None\n",
    "\n",
    "        return {'speaker': speaker, 'time': time, 'body': body}        \n",
    "    \n",
    "    \n",
    "    def scrape_data(self, url, start, end):\n",
    "        try:\n",
    "            bs_obj = BeautifulSoup(urlopen(url).read())\n",
    "            for a in bs_obj.findAll('a'):\n",
    "                del a['href']\n",
    "            #paragraphs = [p.text for p in bs_obj.findAll('p')[start:end]]\n",
    "            data = pd.DataFrame([self.process_paragraph(p) for p in bs_obj.findAll('p')[start:end]])\n",
    "            return data.dropna(how='all')\n",
    "\n",
    "        except:\n",
    "            print ('scrape failed!')"
   ]
  },
  {
   "cell_type": "code",
   "execution_count": 157,
   "metadata": {},
   "outputs": [],
   "source": [
    "class ScrapeRev(ScrapeDebate):\n",
    "    def process_paragraph(self, p):\n",
    "        try:\n",
    "            speaker = re.match('(.*): \\(', p).groups()[0]\n",
    "        except:\n",
    "            speaker = None\n",
    "            \n",
    "        try:\n",
    "            time = re.findall('\\(.*\\)', p)[0].replace('(', '').replace(')', '')\n",
    "        except:\n",
    "            time = None\n",
    "            \n",
    "        try:\n",
    "            body = p.split(')')[1].strip()        \n",
    "        except:\n",
    "            body = None\n",
    "\n",
    "        return {'speaker': speaker, 'time': time, 'body': body}        \n",
    "    \n",
    "    def scrape_data(self, url, start, end):\n",
    "        try:\n",
    "            bs_obj = BeautifulSoup(urlopen(url).read())\n",
    "            for a in bs_obj.findAll('a'):\n",
    "                del a['href']\n",
    "            paragraphs = [p.text for p in bs_obj.findAll('p')[start:end]]\n",
    "            data = pd.DataFrame([self.process_paragraph(p) for p in paragraphs])\n",
    "            return data.dropna(how='all')\n",
    "\n",
    "        except:\n",
    "            print ('scrape failed!')"
   ]
  },
  {
   "cell_type": "code",
   "execution_count": 160,
   "metadata": {},
   "outputs": [],
   "source": [
    "scribie = ScrapeScribie()\n",
    "rev = ScrapeRev()"
   ]
  },
  {
   "cell_type": "code",
   "execution_count": 197,
   "metadata": {},
   "outputs": [],
   "source": [
    "url1_1 = 'https://scribie.com/blog/2019/07/full-democratic-presidential-debate-night-one-july-30-transcripts2020/'\n",
    "url1_2 = 'https://www.rev.com/blog/transcript-from-night-2-of-the-2019-democratic-debates'\n",
    "url2_1 = 'https://www.rev.com/blog/transcript-of-july-democratic-debate-night-1-full-transcript-july-30-2019'\n",
    "url2_2 = 'https://www.rev.com/blog/transcripts/transcript-of-july-democratic-debate-2nd-round-night-2-full-transcript-july-31-2019'\n",
    "url3 = 'https://scribie.com/blog/2019/09/transcript-of-3rd-democratic-debate-at-tsu-sep-12-2019-transcripts2020/'\n",
    "url4 = 'https://scribie.com/blog/2019/10/fourth-democratic-presidential-debate-ohio-10-15-19-transcripts2020/'\n",
    "url5 = 'https://scribie.com/blog/2019/11/fifth-democratic-presidential-debate-11-20-19-transcripts2020/'\n",
    "url6 = 'https://www.rev.com/blog/december-democratic-debate-transcript-sixth-debate-from-los-angeles'\n",
    "url7 = 'https://www.rev.com/blog/transcripts/january-iowa-democratic-debate-transcript'"
   ]
  },
  {
   "cell_type": "code",
   "execution_count": 173,
   "metadata": {},
   "outputs": [],
   "source": [
    "data1_1 = scribie.scrape_data(url1_1, 2, -1)\n",
    "data1_2 = rev.scrape_data(url1_2, 2, -2)\n",
    "data2_1 = rev.scrape_data(url2_1, 2, -11)\n",
    "data2_2 = rev.scrape_data(url2_2, 2, -2)"
   ]
  },
  {
   "cell_type": "code",
   "execution_count": 174,
   "metadata": {},
   "outputs": [],
   "source": [
    "data3 = scribie.scrape_data(url3, 2, -11)\n",
    "data4 = scribie.scrape_data(url4, 2, -11)\n",
    "data5 = scribie.scrape_data(url5, 2, -11)\n",
    "data6 = rev.scrape_data(url6, 3, -2)"
   ]
  },
  {
   "cell_type": "code",
   "execution_count": 194,
   "metadata": {},
   "outputs": [],
   "source": [
    "data7 = rev.scrape_data(url7, 2, -2)\n",
    "data7.loc[0, 'body'] = 'All right, so let’s begin right now. Just this month, the United States and Iran were on the brink of war, which has reignited the debate over America’s role in the world and which of you is best prepared to be commander-in-chief. So let’s have the debate right now. Senator Sanders, why are you best prepared — the best prepared person on this stage to be commander-in-chief?'\n",
    "data7 = data7.reset_index().drop('index', axis=1)"
   ]
  }
 ],
 "metadata": {
  "kernelspec": {
   "display_name": "Python 3",
   "language": "python",
   "name": "python3"
  },
  "language_info": {
   "codemirror_mode": {
    "name": "ipython",
    "version": 3
   },
   "file_extension": ".py",
   "mimetype": "text/x-python",
   "name": "python",
   "nbconvert_exporter": "python",
   "pygments_lexer": "ipython3",
   "version": "3.7.4"
  }
 },
 "nbformat": 4,
 "nbformat_minor": 2
}
